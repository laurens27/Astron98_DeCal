{
 "cells": [
  {
   "cell_type": "code",
   "execution_count": 45,
   "id": "d387aaa0",
   "metadata": {},
   "outputs": [],
   "source": [
    "# Python DeCal\n",
    "# HW 7: Data with Pandas\n",
    "# Question 1 - Tweet Analysis\n",
    "\n",
    "import pandas as pd\n",
    "\n",
    "# using json rather than csv since my computer couldn't process csv\n",
    "data = pd.read_json('AOC_recent_tweets.txt').set_index('id', inplace=True)\n",
    "\n",
    "def time_in_hours(column):\n",
    "    column = pd.to_datetime(column)\n",
    "    dec_hours = column.dt.hour + column.dt.minute / 60 + column.dt.second / (60**2)\n",
    "    return dec_hours\n",
    "\n",
    "data['hours'] = time_in_hours(data['created_at'])\n",
    "\n",
    "chosen_columns = ['created_at', 'hours', 'full_text']\n",
    "chosen_data = data[chosen_columns]\n",
    "\n",
    "chosen_data.to_csv('AOC_organized_tweets.csv', index=False)"
   ]
  },
  {
   "cell_type": "code",
   "execution_count": null,
   "id": "c684ad65",
   "metadata": {},
   "outputs": [],
   "source": []
  },
  {
   "cell_type": "raw",
   "id": "6c7dcc3e",
   "metadata": {},
   "source": []
  },
  {
   "cell_type": "code",
   "execution_count": 3,
   "id": "e53450d4",
   "metadata": {},
   "outputs": [],
   "source": []
  },
  {
   "cell_type": "code",
   "execution_count": null,
   "id": "1094e39b",
   "metadata": {},
   "outputs": [],
   "source": []
  },
  {
   "cell_type": "code",
   "execution_count": 5,
   "id": "ca7647f3",
   "metadata": {},
   "outputs": [],
   "source": []
  },
  {
   "cell_type": "code",
   "execution_count": null,
   "id": "d87facbb",
   "metadata": {},
   "outputs": [],
   "source": []
  }
 ],
 "metadata": {
  "kernelspec": {
   "display_name": "Python 3 (ipykernel)",
   "language": "python",
   "name": "python3"
  },
  "language_info": {
   "codemirror_mode": {
    "name": "ipython",
    "version": 3
   },
   "file_extension": ".py",
   "mimetype": "text/x-python",
   "name": "python",
   "nbconvert_exporter": "python",
   "pygments_lexer": "ipython3",
   "version": "3.11.5"
  }
 },
 "nbformat": 4,
 "nbformat_minor": 5
}
