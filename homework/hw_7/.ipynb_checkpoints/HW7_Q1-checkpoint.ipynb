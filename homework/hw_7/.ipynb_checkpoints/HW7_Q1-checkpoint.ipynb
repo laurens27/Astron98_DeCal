{
 "cells": [
  {
   "cell_type": "code",
   "execution_count": 5,
   "id": "d387aaa0",
   "metadata": {},
   "outputs": [],
   "source": [
    "# Python DeCal\n",
    "# HW 7: Data with Pandas\n",
    "# Question 1 - Tweet Analysis\n",
    "\n",
    "import pandas as pd\n",
    "\n",
    "# loads in the dataset (saved as 'data')\n",
    "data = pd.read_json('AOC_recent_tweets.txt')\n",
    "\n",
    "# indexes the tweets by the id column \n",
    "data.set_index('id', inplace=True)\n",
    "\n",
    "# creates a function that takes a column in datetime format and converts it into hours\n",
    "def time_in_hours(column):\n",
    "    hour = column.dt.hour\n",
    "    minute = column.dt.minute\n",
    "    second = column.dt.second\n",
    "    \n",
    "    time_in_hours = hour + minute / 60 + second / (60**2)\n",
    "    \n",
    "    return time_in_hours\n",
    "\n",
    "# Converts data in the 'created_at' column to decimalized hour to create a new hours column\n",
    "data['hours'] = time_in_hours(data['created_at'])\n",
    "\n",
    "# Saves a DataFrame with selected columns\n",
    "selected_columns = ['created_at', 'hours', 'full_text']\n",
    "selected_data = data[selected_columns]\n",
    "\n",
    "# Saves selected data as a CSV file\n",
    "selected_data.to_csv('AOC_organized_tweets.csv', index=False)"
   ]
  },
  {
   "cell_type": "code",
   "execution_count": null,
   "id": "b6225ee5",
   "metadata": {},
   "outputs": [],
   "source": []
  },
  {
   "cell_type": "raw",
   "id": "07ab0496",
   "metadata": {},
   "source": []
  },
  {
   "cell_type": "code",
   "execution_count": null,
   "id": "be92c45b",
   "metadata": {},
   "outputs": [],
   "source": []
  },
  {
   "cell_type": "code",
   "execution_count": null,
   "id": "f618930a",
   "metadata": {},
   "outputs": [],
   "source": []
  }
 ],
 "metadata": {
  "kernelspec": {
   "display_name": "Python 3 (ipykernel)",
   "language": "python",
   "name": "python3"
  },
  "language_info": {
   "codemirror_mode": {
    "name": "ipython",
    "version": 3
   },
   "file_extension": ".py",
   "mimetype": "text/x-python",
   "name": "python",
   "nbconvert_exporter": "python",
   "pygments_lexer": "ipython3",
   "version": "3.11.5"
  }
 },
 "nbformat": 4,
 "nbformat_minor": 5
}
