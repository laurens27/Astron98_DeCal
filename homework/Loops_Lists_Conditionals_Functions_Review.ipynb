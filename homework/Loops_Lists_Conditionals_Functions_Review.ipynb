{
 "cells": [
  {
   "cell_type": "code",
   "execution_count": 5,
   "id": "7ae716d3",
   "metadata": {},
   "outputs": [
    {
     "name": "stdout",
     "output_type": "stream",
     "text": [
      "megan’, ’charlie’, ’mahum’, ’pranathi’, ’mira’, ’josh’, ’brianna is an instructor in the python decal\n",
      "[64]\n",
      "{'megan’, ’charlie’, ’mahum’, ’pranathi’, ’mira’, ’josh’, ’brianna': 64}\n"
     ]
    }
   ],
   "source": [
    "# Python DeCal\n",
    "# Review Worksheet: Loops, Lists, Conditionals, Functions Review\n",
    "\n",
    "# Question 1: F-strings and instructors\n",
    "\n",
    "# 1.1 Who are your instructors?\n",
    "def print_instructors(names):\n",
    "    for name in names:\n",
    "        print(f\"{name} is an instructor in the python decal\")\n",
    "        \n",
    "names_list = ['megan’, ’charlie’, ’mahum’, ’pranathi’, ’mira’, ’josh’, ’brianna']\n",
    "print_instructors(names_list)\n",
    "\n",
    "    \n",
    "# 1.2 Name Length\n",
    "def name_lengths(names):\n",
    "    lengths = []\n",
    "    for name in names:\n",
    "        lengths.append(len(name))\n",
    "    return lengths\n",
    "              \n",
    "lengths = name_lengths(names_list)\n",
    "print(lengths)\n",
    "\n",
    "\n",
    "# 1.3 Dictionary Practice\n",
    "def create_dictionary(keys, values):\n",
    "    dictionary = {}\n",
    "    for key, value in zip(keys, values):\n",
    "        dictionary[key] = value\n",
    "    return dictionary\n",
    "\n",
    "result_dict = create_dictionary(names_list, lengths)\n",
    "print(result_dict)"
   ]
  },
  {
   "cell_type": "code",
   "execution_count": null,
   "id": "3dcf3907",
   "metadata": {},
   "outputs": [],
   "source": []
  },
  {
   "cell_type": "code",
   "execution_count": null,
   "id": "9adaf4ca",
   "metadata": {},
   "outputs": [],
   "source": []
  },
  {
   "cell_type": "code",
   "execution_count": null,
   "id": "ba43e3c8",
   "metadata": {},
   "outputs": [],
   "source": []
  }
 ],
 "metadata": {
  "kernelspec": {
   "display_name": "Python 3 (ipykernel)",
   "language": "python",
   "name": "python3"
  },
  "language_info": {
   "codemirror_mode": {
    "name": "ipython",
    "version": 3
   },
   "file_extension": ".py",
   "mimetype": "text/x-python",
   "name": "python",
   "nbconvert_exporter": "python",
   "pygments_lexer": "ipython3",
   "version": "3.11.5"
  }
 },
 "nbformat": 4,
 "nbformat_minor": 5
}
